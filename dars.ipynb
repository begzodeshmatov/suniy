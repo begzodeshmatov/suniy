{
  "cells": [
    {
      "cell_type": "markdown",
      "metadata": {
        "id": "view-in-github",
        "colab_type": "text"
      },
      "source": [
        "<a href=\"https://colab.research.google.com/github/begzodeshmatov/suniy/blob/main/dars.ipynb\" target=\"_parent\"><img src=\"https://colab.research.google.com/assets/colab-badge.svg\" alt=\"Open In Colab\"/></a>"
      ]
    },
    {
      "cell_type": "markdown",
      "source": [
        "3 amaliy topshiriq. Eshmatov B"
      ],
      "metadata": {
        "id": "5egnZ74MPRwm"
      }
    },
    {
      "cell_type": "markdown",
      "source": [
        "Rasm,video,audio, word va pdf fayllarini topish."
      ],
      "metadata": {
        "id": "ezlgnMDqPWZb"
      }
    },
    {
      "cell_type": "code",
      "execution_count": null,
      "metadata": {
        "colab": {
          "base_uri": "https://localhost:8080/"
        },
        "id": "DwnhRRM-56dk",
        "outputId": "4bf01040-d07a-43cc-f231-d73f0962fdb1"
      },
      "outputs": [
        {
          "output_type": "stream",
          "name": "stdout",
          "text": [
            "Collecting PyPDF2\n",
            "  Downloading pypdf2-3.0.1-py3-none-any.whl.metadata (6.8 kB)\n",
            "Downloading pypdf2-3.0.1-py3-none-any.whl (232 kB)\n",
            "\u001b[?25l   \u001b[90m━━━━━━━━━━━━━━━━━━━━━━━━━━━━━━━━━━━━━━━━\u001b[0m \u001b[32m0.0/232.6 kB\u001b[0m \u001b[31m?\u001b[0m eta \u001b[36m-:--:--\u001b[0m\r\u001b[2K   \u001b[91m━━━━━━━━━━━━━━━━━━━━━\u001b[0m\u001b[90m╺\u001b[0m\u001b[90m━━━━━━━━━━━━━━━━━━\u001b[0m \u001b[32m122.9/232.6 kB\u001b[0m \u001b[31m3.4 MB/s\u001b[0m eta \u001b[36m0:00:01\u001b[0m\r\u001b[2K   \u001b[90m━━━━━━━━━━━━━━━━━━━━━━━━━━━━━━━━━━━━━━━━\u001b[0m \u001b[32m232.6/232.6 kB\u001b[0m \u001b[31m3.9 MB/s\u001b[0m eta \u001b[36m0:00:00\u001b[0m\n",
            "\u001b[?25hInstalling collected packages: PyPDF2\n",
            "Successfully installed PyPDF2-3.0.1\n"
          ]
        }
      ],
      "source": [
        "pip install PyPDF2\n"
      ]
    },
    {
      "cell_type": "code",
      "execution_count": null,
      "metadata": {
        "colab": {
          "base_uri": "https://localhost:8080/"
        },
        "id": "xawZUb0f7f-K",
        "outputId": "c042ba8c-c5b9-4123-8404-728a6602bf71"
      },
      "outputs": [
        {
          "output_type": "stream",
          "name": "stdout",
          "text": [
            "Collecting python-docx\n",
            "  Downloading python_docx-1.1.2-py3-none-any.whl.metadata (2.0 kB)\n",
            "Requirement already satisfied: lxml>=3.1.0 in /usr/local/lib/python3.10/dist-packages (from python-docx) (5.3.0)\n",
            "Requirement already satisfied: typing-extensions>=4.9.0 in /usr/local/lib/python3.10/dist-packages (from python-docx) (4.12.2)\n",
            "Downloading python_docx-1.1.2-py3-none-any.whl (244 kB)\n",
            "\u001b[2K   \u001b[90m━━━━━━━━━━━━━━━━━━━━━━━━━━━━━━━━━━━━━━━━\u001b[0m \u001b[32m244.3/244.3 kB\u001b[0m \u001b[31m4.5 MB/s\u001b[0m eta \u001b[36m0:00:00\u001b[0m\n",
            "\u001b[?25hInstalling collected packages: python-docx\n",
            "Successfully installed python-docx-1.1.2\n"
          ]
        }
      ],
      "source": [
        "pip install python-docx\n"
      ]
    },
    {
      "cell_type": "code",
      "execution_count": null,
      "metadata": {
        "colab": {
          "base_uri": "https://localhost:8080/"
        },
        "id": "5KBmUXdP7lwj",
        "outputId": "b95f563f-378d-4959-b79a-3505d2d1a23c"
      },
      "outputs": [
        {
          "output_type": "stream",
          "name": "stdout",
          "text": [
            "Collecting fuzzywuzzy\n",
            "  Downloading fuzzywuzzy-0.18.0-py2.py3-none-any.whl.metadata (4.9 kB)\n",
            "Downloading fuzzywuzzy-0.18.0-py2.py3-none-any.whl (18 kB)\n",
            "Installing collected packages: fuzzywuzzy\n",
            "Successfully installed fuzzywuzzy-0.18.0\n"
          ]
        }
      ],
      "source": [
        "pip install fuzzywuzzy"
      ]
    },
    {
      "cell_type": "code",
      "source": [
        "pip install gradio"
      ],
      "metadata": {
        "colab": {
          "base_uri": "https://localhost:8080/"
        },
        "id": "L28dWD_A5b17",
        "outputId": "009ba907-a448-4e37-bb1c-0379d6b36b1c"
      },
      "execution_count": null,
      "outputs": [
        {
          "output_type": "stream",
          "name": "stdout",
          "text": [
            "Collecting gradio\n",
            "  Downloading gradio-5.9.1-py3-none-any.whl.metadata (16 kB)\n",
            "Collecting aiofiles<24.0,>=22.0 (from gradio)\n",
            "  Downloading aiofiles-23.2.1-py3-none-any.whl.metadata (9.7 kB)\n",
            "Requirement already satisfied: anyio<5.0,>=3.0 in /usr/local/lib/python3.10/dist-packages (from gradio) (3.7.1)\n",
            "Collecting fastapi<1.0,>=0.115.2 (from gradio)\n",
            "  Downloading fastapi-0.115.6-py3-none-any.whl.metadata (27 kB)\n",
            "Collecting ffmpy (from gradio)\n",
            "  Downloading ffmpy-0.5.0-py3-none-any.whl.metadata (3.0 kB)\n",
            "Collecting gradio-client==1.5.2 (from gradio)\n",
            "  Downloading gradio_client-1.5.2-py3-none-any.whl.metadata (7.1 kB)\n",
            "Requirement already satisfied: httpx>=0.24.1 in /usr/local/lib/python3.10/dist-packages (from gradio) (0.28.1)\n",
            "Requirement already satisfied: huggingface-hub>=0.25.1 in /usr/local/lib/python3.10/dist-packages (from gradio) (0.27.0)\n",
            "Requirement already satisfied: jinja2<4.0 in /usr/local/lib/python3.10/dist-packages (from gradio) (3.1.4)\n",
            "Collecting markupsafe~=2.0 (from gradio)\n",
            "  Downloading MarkupSafe-2.1.5-cp310-cp310-manylinux_2_17_x86_64.manylinux2014_x86_64.whl.metadata (3.0 kB)\n",
            "Requirement already satisfied: numpy<3.0,>=1.0 in /usr/local/lib/python3.10/dist-packages (from gradio) (1.26.4)\n",
            "Requirement already satisfied: orjson~=3.0 in /usr/local/lib/python3.10/dist-packages (from gradio) (3.10.12)\n",
            "Requirement already satisfied: packaging in /usr/local/lib/python3.10/dist-packages (from gradio) (24.2)\n",
            "Requirement already satisfied: pandas<3.0,>=1.0 in /usr/local/lib/python3.10/dist-packages (from gradio) (2.2.2)\n",
            "Requirement already satisfied: pillow<12.0,>=8.0 in /usr/local/lib/python3.10/dist-packages (from gradio) (11.0.0)\n",
            "Requirement already satisfied: pydantic>=2.0 in /usr/local/lib/python3.10/dist-packages (from gradio) (2.10.3)\n",
            "Collecting pydub (from gradio)\n",
            "  Downloading pydub-0.25.1-py2.py3-none-any.whl.metadata (1.4 kB)\n",
            "Collecting python-multipart>=0.0.18 (from gradio)\n",
            "  Downloading python_multipart-0.0.20-py3-none-any.whl.metadata (1.8 kB)\n",
            "Requirement already satisfied: pyyaml<7.0,>=5.0 in /usr/local/lib/python3.10/dist-packages (from gradio) (6.0.2)\n",
            "Collecting ruff>=0.2.2 (from gradio)\n",
            "  Downloading ruff-0.8.4-py3-none-manylinux_2_17_x86_64.manylinux2014_x86_64.whl.metadata (25 kB)\n",
            "Collecting safehttpx<0.2.0,>=0.1.6 (from gradio)\n",
            "  Downloading safehttpx-0.1.6-py3-none-any.whl.metadata (4.2 kB)\n",
            "Collecting semantic-version~=2.0 (from gradio)\n",
            "  Downloading semantic_version-2.10.0-py2.py3-none-any.whl.metadata (9.7 kB)\n",
            "Collecting starlette<1.0,>=0.40.0 (from gradio)\n",
            "  Downloading starlette-0.42.0-py3-none-any.whl.metadata (6.0 kB)\n",
            "Collecting tomlkit<0.14.0,>=0.12.0 (from gradio)\n",
            "  Downloading tomlkit-0.13.2-py3-none-any.whl.metadata (2.7 kB)\n",
            "Requirement already satisfied: typer<1.0,>=0.12 in /usr/local/lib/python3.10/dist-packages (from gradio) (0.15.1)\n",
            "Requirement already satisfied: typing-extensions~=4.0 in /usr/local/lib/python3.10/dist-packages (from gradio) (4.12.2)\n",
            "Collecting uvicorn>=0.14.0 (from gradio)\n",
            "  Downloading uvicorn-0.34.0-py3-none-any.whl.metadata (6.5 kB)\n",
            "Requirement already satisfied: fsspec in /usr/local/lib/python3.10/dist-packages (from gradio-client==1.5.2->gradio) (2024.10.0)\n",
            "Requirement already satisfied: websockets<15.0,>=10.0 in /usr/local/lib/python3.10/dist-packages (from gradio-client==1.5.2->gradio) (14.1)\n",
            "Requirement already satisfied: idna>=2.8 in /usr/local/lib/python3.10/dist-packages (from anyio<5.0,>=3.0->gradio) (3.10)\n",
            "Requirement already satisfied: sniffio>=1.1 in /usr/local/lib/python3.10/dist-packages (from anyio<5.0,>=3.0->gradio) (1.3.1)\n",
            "Requirement already satisfied: exceptiongroup in /usr/local/lib/python3.10/dist-packages (from anyio<5.0,>=3.0->gradio) (1.2.2)\n",
            "Collecting starlette<1.0,>=0.40.0 (from gradio)\n",
            "  Downloading starlette-0.41.3-py3-none-any.whl.metadata (6.0 kB)\n",
            "Requirement already satisfied: certifi in /usr/local/lib/python3.10/dist-packages (from httpx>=0.24.1->gradio) (2024.12.14)\n",
            "Requirement already satisfied: httpcore==1.* in /usr/local/lib/python3.10/dist-packages (from httpx>=0.24.1->gradio) (1.0.7)\n",
            "Requirement already satisfied: h11<0.15,>=0.13 in /usr/local/lib/python3.10/dist-packages (from httpcore==1.*->httpx>=0.24.1->gradio) (0.14.0)\n",
            "Requirement already satisfied: filelock in /usr/local/lib/python3.10/dist-packages (from huggingface-hub>=0.25.1->gradio) (3.16.1)\n",
            "Requirement already satisfied: requests in /usr/local/lib/python3.10/dist-packages (from huggingface-hub>=0.25.1->gradio) (2.32.3)\n",
            "Requirement already satisfied: tqdm>=4.42.1 in /usr/local/lib/python3.10/dist-packages (from huggingface-hub>=0.25.1->gradio) (4.67.1)\n",
            "Requirement already satisfied: python-dateutil>=2.8.2 in /usr/local/lib/python3.10/dist-packages (from pandas<3.0,>=1.0->gradio) (2.8.2)\n",
            "Requirement already satisfied: pytz>=2020.1 in /usr/local/lib/python3.10/dist-packages (from pandas<3.0,>=1.0->gradio) (2024.2)\n",
            "Requirement already satisfied: tzdata>=2022.7 in /usr/local/lib/python3.10/dist-packages (from pandas<3.0,>=1.0->gradio) (2024.2)\n",
            "Requirement already satisfied: annotated-types>=0.6.0 in /usr/local/lib/python3.10/dist-packages (from pydantic>=2.0->gradio) (0.7.0)\n",
            "Requirement already satisfied: pydantic-core==2.27.1 in /usr/local/lib/python3.10/dist-packages (from pydantic>=2.0->gradio) (2.27.1)\n",
            "Requirement already satisfied: click>=8.0.0 in /usr/local/lib/python3.10/dist-packages (from typer<1.0,>=0.12->gradio) (8.1.7)\n",
            "Requirement already satisfied: shellingham>=1.3.0 in /usr/local/lib/python3.10/dist-packages (from typer<1.0,>=0.12->gradio) (1.5.4)\n",
            "Requirement already satisfied: rich>=10.11.0 in /usr/local/lib/python3.10/dist-packages (from typer<1.0,>=0.12->gradio) (13.9.4)\n",
            "Requirement already satisfied: six>=1.5 in /usr/local/lib/python3.10/dist-packages (from python-dateutil>=2.8.2->pandas<3.0,>=1.0->gradio) (1.17.0)\n",
            "Requirement already satisfied: markdown-it-py>=2.2.0 in /usr/local/lib/python3.10/dist-packages (from rich>=10.11.0->typer<1.0,>=0.12->gradio) (3.0.0)\n",
            "Requirement already satisfied: pygments<3.0.0,>=2.13.0 in /usr/local/lib/python3.10/dist-packages (from rich>=10.11.0->typer<1.0,>=0.12->gradio) (2.18.0)\n",
            "Requirement already satisfied: charset-normalizer<4,>=2 in /usr/local/lib/python3.10/dist-packages (from requests->huggingface-hub>=0.25.1->gradio) (3.4.0)\n",
            "Requirement already satisfied: urllib3<3,>=1.21.1 in /usr/local/lib/python3.10/dist-packages (from requests->huggingface-hub>=0.25.1->gradio) (2.2.3)\n",
            "Requirement already satisfied: mdurl~=0.1 in /usr/local/lib/python3.10/dist-packages (from markdown-it-py>=2.2.0->rich>=10.11.0->typer<1.0,>=0.12->gradio) (0.1.2)\n",
            "Downloading gradio-5.9.1-py3-none-any.whl (57.2 MB)\n",
            "\u001b[2K   \u001b[90m━━━━━━━━━━━━━━━━━━━━━━━━━━━━━━━━━━━━━━━━\u001b[0m \u001b[32m57.2/57.2 MB\u001b[0m \u001b[31m12.6 MB/s\u001b[0m eta \u001b[36m0:00:00\u001b[0m\n",
            "\u001b[?25hDownloading gradio_client-1.5.2-py3-none-any.whl (320 kB)\n",
            "\u001b[2K   \u001b[90m━━━━━━━━━━━━━━━━━━━━━━━━━━━━━━━━━━━━━━━━\u001b[0m \u001b[32m320.4/320.4 kB\u001b[0m \u001b[31m17.7 MB/s\u001b[0m eta \u001b[36m0:00:00\u001b[0m\n",
            "\u001b[?25hDownloading aiofiles-23.2.1-py3-none-any.whl (15 kB)\n",
            "Downloading fastapi-0.115.6-py3-none-any.whl (94 kB)\n",
            "\u001b[2K   \u001b[90m━━━━━━━━━━━━━━━━━━━━━━━━━━━━━━━━━━━━━━━━\u001b[0m \u001b[32m94.8/94.8 kB\u001b[0m \u001b[31m6.5 MB/s\u001b[0m eta \u001b[36m0:00:00\u001b[0m\n",
            "\u001b[?25hDownloading MarkupSafe-2.1.5-cp310-cp310-manylinux_2_17_x86_64.manylinux2014_x86_64.whl (25 kB)\n",
            "Downloading python_multipart-0.0.20-py3-none-any.whl (24 kB)\n",
            "Downloading ruff-0.8.4-py3-none-manylinux_2_17_x86_64.manylinux2014_x86_64.whl (11.2 MB)\n",
            "\u001b[2K   \u001b[90m━━━━━━━━━━━━━━━━━━━━━━━━━━━━━━━━━━━━━━━━\u001b[0m \u001b[32m11.2/11.2 MB\u001b[0m \u001b[31m74.1 MB/s\u001b[0m eta \u001b[36m0:00:00\u001b[0m\n",
            "\u001b[?25hDownloading safehttpx-0.1.6-py3-none-any.whl (8.7 kB)\n",
            "Downloading semantic_version-2.10.0-py2.py3-none-any.whl (15 kB)\n",
            "Downloading starlette-0.41.3-py3-none-any.whl (73 kB)\n",
            "\u001b[2K   \u001b[90m━━━━━━━━━━━━━━━━━━━━━━━━━━━━━━━━━━━━━━━━\u001b[0m \u001b[32m73.2/73.2 kB\u001b[0m \u001b[31m4.9 MB/s\u001b[0m eta \u001b[36m0:00:00\u001b[0m\n",
            "\u001b[?25hDownloading tomlkit-0.13.2-py3-none-any.whl (37 kB)\n",
            "Downloading uvicorn-0.34.0-py3-none-any.whl (62 kB)\n",
            "\u001b[2K   \u001b[90m━━━━━━━━━━━━━━━━━━━━━━━━━━━━━━━━━━━━━━━━\u001b[0m \u001b[32m62.3/62.3 kB\u001b[0m \u001b[31m4.8 MB/s\u001b[0m eta \u001b[36m0:00:00\u001b[0m\n",
            "\u001b[?25hDownloading ffmpy-0.5.0-py3-none-any.whl (6.0 kB)\n",
            "Downloading pydub-0.25.1-py2.py3-none-any.whl (32 kB)\n",
            "Installing collected packages: pydub, uvicorn, tomlkit, semantic-version, ruff, python-multipart, markupsafe, ffmpy, aiofiles, starlette, safehttpx, gradio-client, fastapi, gradio\n",
            "  Attempting uninstall: markupsafe\n",
            "    Found existing installation: MarkupSafe 3.0.2\n",
            "    Uninstalling MarkupSafe-3.0.2:\n",
            "      Successfully uninstalled MarkupSafe-3.0.2\n",
            "Successfully installed aiofiles-23.2.1 fastapi-0.115.6 ffmpy-0.5.0 gradio-5.9.1 gradio-client-1.5.2 markupsafe-2.1.5 pydub-0.25.1 python-multipart-0.0.20 ruff-0.8.4 safehttpx-0.1.6 semantic-version-2.10.0 starlette-0.41.3 tomlkit-0.13.2 uvicorn-0.34.0\n"
          ]
        }
      ]
    },
    {
      "cell_type": "code",
      "source": [
        "pip install python-Levenshtein\n"
      ],
      "metadata": {
        "colab": {
          "base_uri": "https://localhost:8080/"
        },
        "id": "oh6hMcKG-lvx",
        "outputId": "518efbb8-6daf-4863-9bfd-c3071c7a3d94"
      },
      "execution_count": null,
      "outputs": [
        {
          "output_type": "stream",
          "name": "stdout",
          "text": [
            "Collecting python-Levenshtein\n",
            "  Downloading python_Levenshtein-0.26.1-py3-none-any.whl.metadata (3.7 kB)\n",
            "Collecting Levenshtein==0.26.1 (from python-Levenshtein)\n",
            "  Downloading levenshtein-0.26.1-cp310-cp310-manylinux_2_17_x86_64.manylinux2014_x86_64.whl.metadata (3.2 kB)\n",
            "Collecting rapidfuzz<4.0.0,>=3.9.0 (from Levenshtein==0.26.1->python-Levenshtein)\n",
            "  Downloading rapidfuzz-3.11.0-cp310-cp310-manylinux_2_17_x86_64.manylinux2014_x86_64.whl.metadata (11 kB)\n",
            "Downloading python_Levenshtein-0.26.1-py3-none-any.whl (9.4 kB)\n",
            "Downloading levenshtein-0.26.1-cp310-cp310-manylinux_2_17_x86_64.manylinux2014_x86_64.whl (162 kB)\n",
            "\u001b[2K   \u001b[90m━━━━━━━━━━━━━━━━━━━━━━━━━━━━━━━━━━━━━━━━\u001b[0m \u001b[32m162.6/162.6 kB\u001b[0m \u001b[31m5.8 MB/s\u001b[0m eta \u001b[36m0:00:00\u001b[0m\n",
            "\u001b[?25hDownloading rapidfuzz-3.11.0-cp310-cp310-manylinux_2_17_x86_64.manylinux2014_x86_64.whl (3.1 MB)\n",
            "\u001b[2K   \u001b[90m━━━━━━━━━━━━━━━━━━━━━━━━━━━━━━━━━━━━━━━━\u001b[0m \u001b[32m3.1/3.1 MB\u001b[0m \u001b[31m38.7 MB/s\u001b[0m eta \u001b[36m0:00:00\u001b[0m\n",
            "\u001b[?25hInstalling collected packages: rapidfuzz, Levenshtein, python-Levenshtein\n",
            "Successfully installed Levenshtein-0.26.1 python-Levenshtein-0.26.1 rapidfuzz-3.11.0\n"
          ]
        }
      ]
    },
    {
      "cell_type": "markdown",
      "source": [
        "Rasmni topish uchun quyidagicha kodlar yoziladi."
      ],
      "metadata": {
        "id": "gZOGjVp-NG69"
      }
    },
    {
      "cell_type": "code",
      "execution_count": 45,
      "metadata": {
        "colab": {
          "base_uri": "https://localhost:8080/",
          "height": 646
        },
        "id": "FirxOYdN7rHs",
        "outputId": "7c101c14-dd90-4bc4-870e-59ffe25420b0"
      },
      "outputs": [
        {
          "output_type": "stream",
          "name": "stdout",
          "text": [
            "Running Gradio in a Colab notebook requires sharing enabled. Automatically setting `share=True` (you can turn this off by setting `share=False` in `launch()` explicitly).\n",
            "\n",
            "Colab notebook detected. To show errors in colab notebook, set debug=True in launch()\n",
            "* Running on public URL: https://a7c45f8fc85d7bea49.gradio.live\n",
            "\n",
            "This share link expires in 72 hours. For free permanent hosting and GPU upgrades, run `gradio deploy` from the terminal in the working directory to deploy to Hugging Face Spaces (https://huggingface.co/spaces)\n"
          ]
        },
        {
          "output_type": "display_data",
          "data": {
            "text/plain": [
              "<IPython.core.display.HTML object>"
            ],
            "text/html": [
              "<div><iframe src=\"https://a7c45f8fc85d7bea49.gradio.live\" width=\"100%\" height=\"500\" allow=\"autoplay; camera; microphone; clipboard-read; clipboard-write;\" frameborder=\"0\" allowfullscreen></iframe></div>"
            ]
          },
          "metadata": {}
        },
        {
          "output_type": "execute_result",
          "data": {
            "text/plain": []
          },
          "metadata": {},
          "execution_count": 45
        }
      ],
      "source": [
        "import os\n",
        "import requests\n",
        "from sklearn.feature_extraction.text import TfidfVectorizer\n",
        "from sklearn.metrics.pairwise import cosine_similarity\n",
        "from PyPDF2 import PdfReader\n",
        "from docx import Document\n",
        "from fuzzywuzzy import fuzz\n",
        "from PIL import Image\n",
        "from io import BytesIO\n",
        "import gradio as gr\n",
        "\n",
        "# 1. Hujjatlarni va rasmlarni saqlash uchun baza\n",
        "documents = []\n",
        "images = []\n",
        "\n",
        "# 2. PDF fayllarni o'qish funksiyasi\n",
        "def read_pdf(file_path):\n",
        "    try:\n",
        "        reader = PdfReader(file_path)\n",
        "        text = \"\"\n",
        "        for page in reader.pages:\n",
        "            text += page.extract_text()\n",
        "        return text\n",
        "    except Exception as e:\n",
        "        print(f\"PDF faylni o'qishda xato: {e}\")\n",
        "        return \"\"\n",
        "\n",
        "# 3. DOCX fayllarni o'qish funksiyasi\n",
        "def read_docx(file_path):\n",
        "    try:\n",
        "        doc = Document(file_path)\n",
        "        text = \"\\n\".join([paragraph.text for paragraph in doc.paragraphs])\n",
        "        return text\n",
        "    except Exception as e:\n",
        "        print(f\"DOCX faylni o'qishda xato: {e}\")\n",
        "        return \"\"\n",
        "\n",
        "# 4. Hujjatlarni va rasmlarni yuklash funksiyasi\n",
        "def load_documents_from_folder(folder_path):\n",
        "    for file_name in os.listdir(folder_path):\n",
        "        file_path = os.path.join(folder_path, file_name)\n",
        "        if file_name.endswith(\".pdf\"):\n",
        "            text = read_pdf(file_path)\n",
        "            if text.strip():  # Matn bo'sh bo'lmasligi kerak\n",
        "                documents.append({\"text\": text, \"link\": file_path})\n",
        "        elif file_name.endswith(\".docx\"):\n",
        "            text = read_docx(file_path)\n",
        "            if text.strip():  # Matn bo'sh bo'lmasligi kerak\n",
        "                documents.append({\"text\": text, \"link\": file_path})\n",
        "        elif file_name.lower().endswith((\".png\", \".jpg\", \".jpeg\")):\n",
        "            images.append({\"name\": file_name, \"link\": file_path})\n",
        "\n",
        "# 5. GitHubdagi rasmlarni yuklash funksiyasi\n",
        "def load_images_from_github(image_urls):\n",
        "    for url in image_urls:\n",
        "        try:\n",
        "            response = requests.get(url)\n",
        "            if response.status_code == 200:\n",
        "                img_name = os.path.basename(url)\n",
        "                images.append({\"name\": img_name, \"link\": url})\n",
        "            else:\n",
        "                print(f\"Rasmni yuklashda xato: {url}\")\n",
        "        except Exception as e:\n",
        "            print(f\"GitHubdan rasm yuklashda xato: {e}\")\n",
        "\n",
        "# 6. Foydalanuvchi qidiruv tizimini yaratish\n",
        "def search_documents_and_images(query):\n",
        "    results = []\n",
        "    image_links = []\n",
        "\n",
        "    # 6.1 Matnli hujjatlarni qidirish\n",
        "    if documents:\n",
        "        texts = [doc[\"text\"] for doc in documents]\n",
        "        vectorizer = TfidfVectorizer(stop_words='english')\n",
        "        doc_vectors = vectorizer.fit_transform(texts)\n",
        "        query_vector = vectorizer.transform([query])\n",
        "\n",
        "        similarities = cosine_similarity(query_vector, doc_vectors).flatten()\n",
        "        sorted_indices = similarities.argsort()[::-1]\n",
        "\n",
        "        for idx in sorted_indices:\n",
        "            if similarities[idx] > 0:\n",
        "                doc = documents[idx]\n",
        "                results.append(f\"Matn hujjati: {doc['link']} (o'xshashlik: {similarities[idx]:.2f})\")\n",
        "\n",
        "    # 6.2 Rasmlarni qidirish\n",
        "    for image in images:\n",
        "        similarity = fuzz.partial_ratio(query.lower(), image[\"name\"].lower())\n",
        "        if similarity >= 30:\n",
        "            image_links.append({\"link\": image[\"link\"], \"similarity\": similarity})\n",
        "\n",
        "    return results, image_links\n",
        "\n",
        "# 7. Natijalarni ko'rsatish funksiyasi\n",
        "def display_results(query):\n",
        "    # 7.1 Hujjatlarni va rasmlarni qidirish\n",
        "    results, image_links = search_documents_and_images(query)\n",
        "\n",
        "    # 7.2 Agar rasm topilmasa\n",
        "    if not image_links:\n",
        "        results.append(\"Rasm topilmadi\")\n",
        "\n",
        "    # 7.3 Rasmlarni ko'rsatish va o'xshashlik foizini chiqarmoq\n",
        "    image_outputs = []\n",
        "    for image_data in image_links:\n",
        "        try:\n",
        "            link = image_data[\"link\"]\n",
        "            similarity = image_data[\"similarity\"]\n",
        "            if link.startswith(\"http\"):\n",
        "                response = requests.get(link)\n",
        "                img = Image.open(BytesIO(response.content))\n",
        "            else:\n",
        "                img = Image.open(link)\n",
        "            image_outputs.append(img)\n",
        "            results.append(f\"Rasm: {link} (o'xshashlik: {similarity}%)\")\n",
        "        except Exception as e:\n",
        "            print(f\"Rasmni ochishda xato: {e}\")\n",
        "\n",
        "    # 7.4 Natijalar matnini qaytarish\n",
        "    output = \"Natijalar:\\n\\n\"\n",
        "    for result in results:\n",
        "        output += result + \"\\n\"\n",
        "\n",
        "    return output, image_outputs\n",
        "\n",
        "# 8. Gradio interfeysini yaratish\n",
        "def gradio_interface(query):\n",
        "    text_results, image_outputs = display_results(query)\n",
        "\n",
        "    # Agar bir nechta rasm bo'lsa, ularni alohida qaytarish\n",
        "    return text_results, image_outputs\n",
        "\n",
        "# Fayllarni yuklash\n",
        "folder_path = \"./content\"  # Mahalliy fayllar uchun papka yo'li\n",
        "os.makedirs(folder_path, exist_ok=True)\n",
        "load_documents_from_folder(folder_path)\n",
        "\n",
        "# GitHubdan rasmlarni yuklash\n",
        "github_image_urls = [\n",
        "    \"https://raw.githubusercontent.com/begzodeshmatov/suniy/main/begzod.jpg\",\n",
        "    \"https://raw.githubusercontent.com/begzodeshmatov/suniy/main/elshod.jpg\",\n",
        "    \"https://raw.githubusercontent.com/begzodeshmatov/suniy/main/samandar.jpg\",\n",
        "    \"https://raw.githubusercontent.com/begzodeshmatov/suniy/main/turdibek.jpg\",\n",
        "    \"https://raw.githubusercontent.com/begzodeshmatov/suniy/main/mirzabek.jpg\",\n",
        "]\n",
        "load_images_from_github(github_image_urls)\n",
        "\n",
        "# Gradio interfeysi\n",
        "demo = gr.Interface(\n",
        "    fn=gradio_interface,\n",
        "    inputs=\"text\",\n",
        "    outputs=[\"text\", gr.Gallery(label=\"Rasmlar\")],\n",
        "    title=\"Begzodning Rasmlar qidiruv Tizimi\",\n",
        "    description=\"Rasmlar bo'yicha qidiruv tizimi\"\n",
        ")\n",
        "\n",
        "demo.launch()\n"
      ]
    },
    {
      "cell_type": "code",
      "execution_count": 27,
      "metadata": {
        "colab": {
          "base_uri": "https://localhost:8080/"
        },
        "id": "6gpYHujH7twR",
        "outputId": "4ebb1d6f-43ae-4524-b51d-2d4bf43b138d"
      },
      "outputs": [
        {
          "output_type": "stream",
          "name": "stdout",
          "text": [
            "Requirement already satisfied: mutagen in /usr/local/lib/python3.10/dist-packages (1.47.0)\n",
            "Requirement already satisfied: fuzzywuzzy in /usr/local/lib/python3.10/dist-packages (0.18.0)\n"
          ]
        }
      ],
      "source": [
        "pip install mutagen fuzzywuzzy\n"
      ]
    },
    {
      "cell_type": "markdown",
      "source": [
        "Qo'shiqni topish uchun quyidagicha kodlar yoziladi."
      ],
      "metadata": {
        "id": "0wQWgn6DNQzm"
      }
    },
    {
      "cell_type": "code",
      "execution_count": 44,
      "metadata": {
        "colab": {
          "base_uri": "https://localhost:8080/",
          "height": 646
        },
        "id": "mWpiPoxA80Sr",
        "outputId": "45c1574a-06d1-46c6-e883-357dfb608c44"
      },
      "outputs": [
        {
          "output_type": "stream",
          "name": "stdout",
          "text": [
            "Running Gradio in a Colab notebook requires sharing enabled. Automatically setting `share=True` (you can turn this off by setting `share=False` in `launch()` explicitly).\n",
            "\n",
            "Colab notebook detected. To show errors in colab notebook, set debug=True in launch()\n",
            "* Running on public URL: https://5fa1e86fb0fc06689c.gradio.live\n",
            "\n",
            "This share link expires in 72 hours. For free permanent hosting and GPU upgrades, run `gradio deploy` from the terminal in the working directory to deploy to Hugging Face Spaces (https://huggingface.co/spaces)\n"
          ]
        },
        {
          "output_type": "display_data",
          "data": {
            "text/plain": [
              "<IPython.core.display.HTML object>"
            ],
            "text/html": [
              "<div><iframe src=\"https://5fa1e86fb0fc06689c.gradio.live\" width=\"100%\" height=\"500\" allow=\"autoplay; camera; microphone; clipboard-read; clipboard-write;\" frameborder=\"0\" allowfullscreen></iframe></div>"
            ]
          },
          "metadata": {}
        },
        {
          "output_type": "execute_result",
          "data": {
            "text/plain": []
          },
          "metadata": {},
          "execution_count": 44
        }
      ],
      "source": [
        "import os\n",
        "import requests\n",
        "import gradio as gr\n",
        "\n",
        "# 1. Hujjatlar, rasmlar va qo'shiqlarni saqlash uchun baza\n",
        "documents = []\n",
        "images = []\n",
        "songs = []\n",
        "\n",
        "# 2. GitHub'dan MP3 qo'shiqlarni yuklash funksiyasi\n",
        "def load_songs_from_github(song_urls):\n",
        "    for url in song_urls:\n",
        "        try:\n",
        "            headers = {\"User-Agent\": \"Mozilla/5.0 (Windows NT 10.0; Win64; x64) AppleWebKit/537.36 (KHTML, like Gecko) Chrome/91.0.4472.124 Safari/537.36\"}\n",
        "            response = requests.get(url, headers=headers)\n",
        "            if response.status_code == 200:\n",
        "                song_name = os.path.basename(url)\n",
        "                songs.append({\"name\": song_name, \"link\": url})\n",
        "            else:\n",
        "                print(f\"Qo'shiqni yuklashda xato: {url} - HTTP status kodi: {response.status_code}\")\n",
        "        except Exception as e:\n",
        "            print(f\"GitHubdan qo'shiq yuklashda xato: {e}\")\n",
        "\n",
        "# 3. Foydalanuvchi qidiruv tizimini yaratish\n",
        "def search_documents_images_and_songs(query):\n",
        "    results = []\n",
        "\n",
        "    # 3.1 Matnli hujjatlarni qidirish\n",
        "    if documents:\n",
        "        texts = [doc[\"text\"] for doc in documents]\n",
        "        # ... (qolgan kodni saqlash)\n",
        "\n",
        "    # 3.2 Rasmlarni qidirish\n",
        "    if images:\n",
        "        for image in images:\n",
        "            similarity = fuzz.partial_ratio(query.lower(), image[\"name\"].lower())\n",
        "            if similarity >= 30:\n",
        "                results.append(f\"Rasm: {image['link']} (o'xshashlik: {similarity}%)\")\n",
        "\n",
        "    # 3.3 Qo'shiqlarni qidirish\n",
        "    if songs:\n",
        "        for song in songs:\n",
        "            similarity = fuzz.partial_ratio(query.lower(), song[\"name\"].lower())\n",
        "            if similarity >= 30:\n",
        "                results.append(f\"Qo'shiq: {song['link']} (o'xshashlik: {similarity}%)\")\n",
        "\n",
        "    return results\n",
        "\n",
        "# 4. Natijalarni ko'rsatish funksiyasi\n",
        "def display_results(query):\n",
        "    results = search_documents_images_and_songs(query)\n",
        "    output = \"Natijalar:\\n\\n\"\n",
        "\n",
        "    if not results:\n",
        "        output += \"Hech qanday natija topilmadi.\\n\"\n",
        "    else:\n",
        "        for result in results:\n",
        "            output += result + \"\\n\"\n",
        "\n",
        "    return output\n",
        "\n",
        "# 5. Gradio interfeysini yaratish\n",
        "def gradio_interface(query):\n",
        "    text_results = display_results(query)\n",
        "\n",
        "    # Qo'shiqni musiqani output sifatida Gradio interfeysida ko'rsatish\n",
        "    song_output = None\n",
        "    for song in songs:\n",
        "        similarity = fuzz.partial_ratio(query.lower(), song[\"name\"].lower())\n",
        "        if similarity >= 30:\n",
        "            song_output = song[\"link\"]  # Audio faylni link sifatida qaytarish\n",
        "\n",
        "    return text_results, song_output\n",
        "\n",
        "# GitHub'dan qo'shiqlarni yuklash\n",
        "github_song_urls = [\n",
        "    \"https://raw.githubusercontent.com/begzodeshmatov/suniymusiqaa/main/musiqa.mp3\",\n",
        "    \"https://raw.githubusercontent.com/begzodeshmatov/suniymusiqaa/main/music.mp3\",\n",
        "    \"https://raw.githubusercontent.com/begzodeshmatov/suniymusiqaa/main/qushiq.mp3\"\n",
        "]\n",
        "load_songs_from_github(github_song_urls)\n",
        "\n",
        "# Gradio interfeysi\n",
        "demo = gr.Interface(\n",
        "    fn=gradio_interface,\n",
        "    inputs=\"text\",\n",
        "    outputs=[\"text\", \"audio\"],  # Audio va matn natijalarini ko'rsatish\n",
        "    title=\"Begzodning qo'shiqlar qidiruv Tizimi\",\n",
        "    description=\"Qo'shiqlar bo'yicha qidiruv tizimi\"\n",
        ")\n",
        "\n",
        "demo.launch()\n"
      ]
    },
    {
      "cell_type": "code",
      "execution_count": 32,
      "metadata": {
        "colab": {
          "base_uri": "https://localhost:8080/"
        },
        "id": "w2XBZC8r-1iZ",
        "outputId": "bca61fef-7d1c-47d9-f582-305092c9f698"
      },
      "outputs": [
        {
          "output_type": "stream",
          "name": "stdout",
          "text": [
            "Requirement already satisfied: python-Levenshtein in /usr/local/lib/python3.10/dist-packages (0.26.1)\n",
            "Requirement already satisfied: Levenshtein==0.26.1 in /usr/local/lib/python3.10/dist-packages (from python-Levenshtein) (0.26.1)\n",
            "Requirement already satisfied: rapidfuzz<4.0.0,>=3.9.0 in /usr/local/lib/python3.10/dist-packages (from Levenshtein==0.26.1->python-Levenshtein) (3.11.0)\n"
          ]
        }
      ],
      "source": [
        "pip install python-Levenshtein\n"
      ]
    },
    {
      "cell_type": "code",
      "execution_count": 33,
      "metadata": {
        "colab": {
          "base_uri": "https://localhost:8080/"
        },
        "id": "EnLVt7V7-2GL",
        "outputId": "b4642bca-9fe3-41d8-f9c1-863ac599d1bd"
      },
      "outputs": [
        {
          "output_type": "stream",
          "name": "stdout",
          "text": [
            "Collecting pymediainfo\n",
            "  Downloading pymediainfo-6.1.0.tar.gz (446 kB)\n",
            "\u001b[?25l     \u001b[90m━━━━━━━━━━━━━━━━━━━━━━━━━━━━━━━━━━━━━━━━\u001b[0m \u001b[32m0.0/446.5 kB\u001b[0m \u001b[31m?\u001b[0m eta \u001b[36m-:--:--\u001b[0m\r\u001b[2K     \u001b[91m━━━━━━━━━━━━━━━━━━━━━━━━\u001b[0m\u001b[91m╸\u001b[0m\u001b[90m━━━━━━━━━━━━━━━\u001b[0m \u001b[32m276.5/446.5 kB\u001b[0m \u001b[31m8.0 MB/s\u001b[0m eta \u001b[36m0:00:01\u001b[0m\r\u001b[2K     \u001b[90m━━━━━━━━━━━━━━━━━━━━━━━━━━━━━━━━━━━━━━━━\u001b[0m \u001b[32m446.5/446.5 kB\u001b[0m \u001b[31m8.3 MB/s\u001b[0m eta \u001b[36m0:00:00\u001b[0m\n",
            "\u001b[?25h  Preparing metadata (setup.py) ... \u001b[?25l\u001b[?25hdone\n",
            "Building wheels for collected packages: pymediainfo\n",
            "  Building wheel for pymediainfo (setup.py) ... \u001b[?25l\u001b[?25hdone\n",
            "  Created wheel for pymediainfo: filename=pymediainfo-6.1.0-py2.py3-none-any.whl size=9237 sha256=adda8a0e453c7918e9d8e95a6cf12e09e32a1dd487a3e4bc2b6665e430f51ac2\n",
            "  Stored in directory: /root/.cache/pip/wheels/84/22/6b/374964dcdd11a5b38e46041739ca2cd5db9dc679c8373b19c3\n",
            "Successfully built pymediainfo\n",
            "Installing collected packages: pymediainfo\n",
            "Successfully installed pymediainfo-6.1.0\n"
          ]
        }
      ],
      "source": [
        "pip install pymediainfo\n"
      ]
    },
    {
      "cell_type": "code",
      "execution_count": 34,
      "metadata": {
        "colab": {
          "base_uri": "https://localhost:8080/"
        },
        "id": "OSBO1gC9AXIj",
        "outputId": "ce917e66-2f63-48dd-b11a-6f0e76a2db8f"
      },
      "outputs": [
        {
          "output_type": "stream",
          "name": "stdout",
          "text": [
            "Requirement already satisfied: opencv-python in /usr/local/lib/python3.10/dist-packages (4.10.0.84)\n",
            "Requirement already satisfied: numpy>=1.21.2 in /usr/local/lib/python3.10/dist-packages (from opencv-python) (1.26.4)\n"
          ]
        }
      ],
      "source": [
        "pip install opencv-python"
      ]
    },
    {
      "cell_type": "code",
      "execution_count": 35,
      "metadata": {
        "colab": {
          "base_uri": "https://localhost:8080/"
        },
        "id": "4GuCfOE-Amlr",
        "outputId": "fc7d233b-a2fb-4516-c6f2-d0b2e866e27b"
      },
      "outputs": [
        {
          "output_type": "stream",
          "name": "stdout",
          "text": [
            "Requirement already satisfied: fuzzywuzzy in /usr/local/lib/python3.10/dist-packages (0.18.0)\n",
            "Requirement already satisfied: python-Levenshtein in /usr/local/lib/python3.10/dist-packages (0.26.1)\n",
            "Requirement already satisfied: opencv-python in /usr/local/lib/python3.10/dist-packages (4.10.0.84)\n",
            "Requirement already satisfied: Levenshtein==0.26.1 in /usr/local/lib/python3.10/dist-packages (from python-Levenshtein) (0.26.1)\n",
            "Requirement already satisfied: rapidfuzz<4.0.0,>=3.9.0 in /usr/local/lib/python3.10/dist-packages (from Levenshtein==0.26.1->python-Levenshtein) (3.11.0)\n",
            "Requirement already satisfied: numpy>=1.21.2 in /usr/local/lib/python3.10/dist-packages (from opencv-python) (1.26.4)\n"
          ]
        }
      ],
      "source": [
        "pip install fuzzywuzzy python-Levenshtein opencv-python\n"
      ]
    },
    {
      "cell_type": "markdown",
      "source": [
        "Videoni topish uchun quyidagicha kodlar yoziladi."
      ],
      "metadata": {
        "id": "vj4-cNcjNVbh"
      }
    },
    {
      "cell_type": "code",
      "execution_count": 49,
      "metadata": {
        "colab": {
          "base_uri": "https://localhost:8080/",
          "height": 646
        },
        "id": "3lONlju1-5XE",
        "outputId": "4d59aefb-304b-4493-ca67-43e978f79b2b"
      },
      "outputs": [
        {
          "output_type": "stream",
          "name": "stdout",
          "text": [
            "Running Gradio in a Colab notebook requires sharing enabled. Automatically setting `share=True` (you can turn this off by setting `share=False` in `launch()` explicitly).\n",
            "\n",
            "Colab notebook detected. To show errors in colab notebook, set debug=True in launch()\n",
            "* Running on public URL: https://8f8ecfcc67334f8eea.gradio.live\n",
            "\n",
            "This share link expires in 72 hours. For free permanent hosting and GPU upgrades, run `gradio deploy` from the terminal in the working directory to deploy to Hugging Face Spaces (https://huggingface.co/spaces)\n"
          ]
        },
        {
          "output_type": "display_data",
          "data": {
            "text/plain": [
              "<IPython.core.display.HTML object>"
            ],
            "text/html": [
              "<div><iframe src=\"https://8f8ecfcc67334f8eea.gradio.live\" width=\"100%\" height=\"500\" allow=\"autoplay; camera; microphone; clipboard-read; clipboard-write;\" frameborder=\"0\" allowfullscreen></iframe></div>"
            ]
          },
          "metadata": {}
        },
        {
          "output_type": "execute_result",
          "data": {
            "text/plain": []
          },
          "metadata": {},
          "execution_count": 49
        }
      ],
      "source": [
        "import os\n",
        "import requests\n",
        "import gradio as gr\n",
        "from fuzzywuzzy import fuzz\n",
        "\n",
        "# 1. Videolarni saqlash uchun baza\n",
        "videos = []\n",
        "\n",
        "# 2. GitHub'dan videolarni yuklash funksiyasi\n",
        "def load_videos_from_github(video_urls):\n",
        "    for url in video_urls:\n",
        "        try:\n",
        "            headers = {\"User-Agent\": \"Mozilla/5.0 (Windows NT 10.0; Win64; x64) AppleWebKit/537.36 (KHTML, like Gecko) Chrome/91.0.4472.124 Safari/537.36\"}\n",
        "            response = requests.get(url, headers=headers)\n",
        "            if response.status_code == 200:\n",
        "                video_name = os.path.basename(url)\n",
        "                videos.append({\"name\": video_name, \"link\": url})\n",
        "            else:\n",
        "                print(f\"Video yuklashda xato: {url} - HTTP status kodi: {response.status_code}\")\n",
        "        except Exception as e:\n",
        "            print(f\"GitHubdan video yuklashda xato: {e}\")\n",
        "\n",
        "# 3. Foydalanuvchi qidiruv tizimini yaratish\n",
        "def search_videos(query):\n",
        "    results = []\n",
        "\n",
        "    # Videolarni qidirish\n",
        "    if videos:\n",
        "        for video in videos:\n",
        "            similarity = fuzz.partial_ratio(query.lower(), video[\"name\"].lower())\n",
        "            if similarity >= 30:\n",
        "                results.append(f\"Video: {video['link']} (o'xshashlik: {similarity}%)\")\n",
        "\n",
        "    return results\n",
        "\n",
        "# 4. Natijalarni ko'rsatish funksiyasi\n",
        "def display_results(query):\n",
        "    results = search_videos(query)\n",
        "    output = \"Natijalar:\\n\\n\"\n",
        "\n",
        "    if not results:\n",
        "        output += \"Hech qanday natija topilmadi.\\n\"\n",
        "    else:\n",
        "        for result in results:\n",
        "            output += result + \"\\n\"\n",
        "\n",
        "    return output\n",
        "\n",
        "# 5. Gradio interfeysini yaratish\n",
        "def gradio_interface(query):\n",
        "    text_results = display_results(query)\n",
        "\n",
        "    # Video output sifatida Gradio interfeysida ko'rsatish\n",
        "    video_output = None\n",
        "    for video in videos:\n",
        "        similarity = fuzz.partial_ratio(query.lower(), video[\"name\"].lower())\n",
        "        if similarity >= 30:\n",
        "            video_output = video[\"link\"]  # Video faylni link sifatida qaytarish\n",
        "\n",
        "    return text_results, video_output\n",
        "\n",
        "# GitHub'dan videolarni yuklash\n",
        "github_video_urls = [\n",
        "    \"https://raw.githubusercontent.com/begzodeshmatov/suniyvideoo/main/carvideo.mp4\",\n",
        "    \"https://raw.githubusercontent.com/begzodeshmatov/suniyvideoo/main/tabiat.mp4\",\n",
        "    \"https://raw.githubusercontent.com/begzodeshmatov/suniyvideoo/main/osmon.mp4\",\n",
        "]\n",
        "load_videos_from_github(github_video_urls)\n",
        "\n",
        "# Gradio interfeysi\n",
        "demo = gr.Interface(\n",
        "    fn=gradio_interface,\n",
        "    inputs=\"text\",\n",
        "    outputs=[\"text\", \"video\"],  # Video va matn natijalarini ko'rsatish\n",
        "    title=\"Begzodning Video Qidiruv Tizimi\",\n",
        "    description=\"Videolar bo'yicha qidiruv tizimi\"\n",
        ")\n",
        "\n",
        "demo.launch()\n"
      ]
    },
    {
      "cell_type": "markdown",
      "source": [
        "Pdf faylni topish uchun quyidagicha kodlar yoziladi."
      ],
      "metadata": {
        "id": "w-5dR4MqO4Eq"
      }
    },
    {
      "cell_type": "code",
      "execution_count": 52,
      "metadata": {
        "id": "gIeJFUJMAuHl",
        "colab": {
          "base_uri": "https://localhost:8080/",
          "height": 646
        },
        "outputId": "d2706437-df6e-4cf0-c297-6468eed5bc74"
      },
      "outputs": [
        {
          "output_type": "stream",
          "name": "stdout",
          "text": [
            "Running Gradio in a Colab notebook requires sharing enabled. Automatically setting `share=True` (you can turn this off by setting `share=False` in `launch()` explicitly).\n",
            "\n",
            "Colab notebook detected. To show errors in colab notebook, set debug=True in launch()\n",
            "* Running on public URL: https://71b480d7bea69481e0.gradio.live\n",
            "\n",
            "This share link expires in 72 hours. For free permanent hosting and GPU upgrades, run `gradio deploy` from the terminal in the working directory to deploy to Hugging Face Spaces (https://huggingface.co/spaces)\n"
          ]
        },
        {
          "output_type": "display_data",
          "data": {
            "text/plain": [
              "<IPython.core.display.HTML object>"
            ],
            "text/html": [
              "<div><iframe src=\"https://71b480d7bea69481e0.gradio.live\" width=\"100%\" height=\"500\" allow=\"autoplay; camera; microphone; clipboard-read; clipboard-write;\" frameborder=\"0\" allowfullscreen></iframe></div>"
            ]
          },
          "metadata": {}
        },
        {
          "output_type": "execute_result",
          "data": {
            "text/plain": []
          },
          "metadata": {},
          "execution_count": 52
        }
      ],
      "source": [
        "import os\n",
        "import requests\n",
        "import gradio as gr\n",
        "from fuzzywuzzy import fuzz\n",
        "\n",
        "# PDF fayllarini saqlash uchun baza\n",
        "pdf_files = []\n",
        "\n",
        "# GitHub'dan PDF fayllarini yuklash funksiyasi\n",
        "def load_pdfs_from_github(pdf_urls):\n",
        "    for url in pdf_urls:\n",
        "        try:\n",
        "            headers = {\"User-Agent\": \"Mozilla/5.0 (Windows NT 10.0; Win64; x64) AppleWebKit/537.36 (KHTML, like Gecko) Chrome/91.0.4472.124 Safari/537.36\"}\n",
        "            response = requests.get(url, headers=headers)\n",
        "            if response.status_code == 200:\n",
        "                pdf_name = os.path.basename(url)\n",
        "                pdf_files.append({\"name\": pdf_name, \"link\": url})\n",
        "            else:\n",
        "                print(f\"PDF yuklashda xato: {url} - HTTP status kodi: {response.status_code}\")\n",
        "        except Exception as e:\n",
        "            print(f\"GitHubdan PDF yuklashda xato: {e}\")\n",
        "\n",
        "# Foydalanuvchi qidiruv tizimini yaratish\n",
        "def search_pdfs(query):\n",
        "    results = []\n",
        "\n",
        "    # PDF fayllarini qidirish\n",
        "    if pdf_files:\n",
        "        for pdf in pdf_files:\n",
        "            similarity = fuzz.partial_ratio(query.lower(), pdf[\"name\"].lower())\n",
        "            if similarity == 100:  # 100% o'xshashlik bo'lsa\n",
        "                results.append(f\"PDF: {pdf['link']} (o'xshashlik: {similarity}%)\")\n",
        "\n",
        "    return results\n",
        "\n",
        "# Natijalarni ko'rsatish funksiyasi\n",
        "def display_results(query):\n",
        "    results = search_pdfs(query)\n",
        "    output = \"Natijalar:\\n\\n\"\n",
        "\n",
        "    if not results:\n",
        "        output += \"Hech qanday natija topilmadi.\\n\"\n",
        "    else:\n",
        "        for result in results:\n",
        "            output += result + \"\\n\"\n",
        "\n",
        "    return output\n",
        "\n",
        "# Gradio interfeysini yaratish\n",
        "def gradio_interface(query):\n",
        "    text_results = display_results(query)\n",
        "\n",
        "    # 100% o'xshashlikka ega PDF fayllarini output sifatida ko'rsatish\n",
        "    pdf_output = None\n",
        "    for pdf in pdf_files:\n",
        "        similarity = fuzz.partial_ratio(query.lower(), pdf[\"name\"].lower())\n",
        "        if similarity == 100:  # Faqat 100% o'xshashlikni qaytarish\n",
        "            pdf_output = pdf[\"link\"]  # PDF faylni link sifatida qaytarish\n",
        "\n",
        "    return text_results, pdf_output\n",
        "\n",
        "# GitHub'dan PDF fayllarini yuklash\n",
        "github_pdf_urls = [\n",
        "    \"https://raw.githubusercontent.com/begzodeshmatov/suniypdff/main/bir.pdf\",\n",
        "    \"https://raw.githubusercontent.com/begzodeshmatov/suniypdff/main/ikki.pdf\"\n",
        "]\n",
        "load_pdfs_from_github(github_pdf_urls)\n",
        "\n",
        "# Gradio interfeysi\n",
        "demo = gr.Interface(\n",
        "    fn=gradio_interface,\n",
        "    inputs=\"text\",\n",
        "    outputs=[\"text\", \"file\"],  # PDF fayllarini yuklab olish uchun\n",
        "    title=\"Begzodning PDF Qidiruv Tizimi\",\n",
        "    description=\"PDF fayllar bo'yicha qidiruv tizimi\"\n",
        ")\n",
        "\n",
        "demo.launch()\n"
      ]
    },
    {
      "cell_type": "markdown",
      "source": [
        "Word faylini topish uchun quyidagicha kodlar yoziladi."
      ],
      "metadata": {
        "id": "mpUxMBLZPFdi"
      }
    },
    {
      "cell_type": "code",
      "execution_count": 53,
      "metadata": {
        "id": "Cie1f7U3-_xb",
        "colab": {
          "base_uri": "https://localhost:8080/",
          "height": 646
        },
        "outputId": "0836806c-3edb-4499-888f-945edd429a2b"
      },
      "outputs": [
        {
          "output_type": "stream",
          "name": "stdout",
          "text": [
            "Running Gradio in a Colab notebook requires sharing enabled. Automatically setting `share=True` (you can turn this off by setting `share=False` in `launch()` explicitly).\n",
            "\n",
            "Colab notebook detected. To show errors in colab notebook, set debug=True in launch()\n",
            "* Running on public URL: https://00219c2f0170ed771a.gradio.live\n",
            "\n",
            "This share link expires in 72 hours. For free permanent hosting and GPU upgrades, run `gradio deploy` from the terminal in the working directory to deploy to Hugging Face Spaces (https://huggingface.co/spaces)\n"
          ]
        },
        {
          "output_type": "display_data",
          "data": {
            "text/plain": [
              "<IPython.core.display.HTML object>"
            ],
            "text/html": [
              "<div><iframe src=\"https://00219c2f0170ed771a.gradio.live\" width=\"100%\" height=\"500\" allow=\"autoplay; camera; microphone; clipboard-read; clipboard-write;\" frameborder=\"0\" allowfullscreen></iframe></div>"
            ]
          },
          "metadata": {}
        },
        {
          "output_type": "execute_result",
          "data": {
            "text/plain": []
          },
          "metadata": {},
          "execution_count": 53
        }
      ],
      "source": [
        "import os\n",
        "import requests\n",
        "import gradio as gr\n",
        "from fuzzywuzzy import fuzz\n",
        "\n",
        "# Word fayllarini saqlash uchun baza\n",
        "word_files = []\n",
        "\n",
        "# GitHub'dan Word fayllarini yuklash funksiyasi\n",
        "def load_word_files_from_github(word_urls):\n",
        "    for url in word_urls:\n",
        "        try:\n",
        "            headers = {\"User-Agent\": \"Mozilla/5.0 (Windows NT 10.0; Win64; x64) AppleWebKit/537.36 (KHTML, like Gecko) Chrome/91.0.4472.124 Safari/537.36\"}\n",
        "            response = requests.get(url, headers=headers)\n",
        "            if response.status_code == 200:\n",
        "                word_name = os.path.basename(url)\n",
        "                word_files.append({\"name\": word_name, \"link\": url})\n",
        "            else:\n",
        "                print(f\"Word faylini yuklashda xato: {url} - HTTP status kodi: {response.status_code}\")\n",
        "        except Exception as e:\n",
        "            print(f\"GitHubdan Word faylini yuklashda xato: {e}\")\n",
        "\n",
        "# Foydalanuvchi qidiruv tizimini yaratish\n",
        "def search_word_files(query):\n",
        "    results = []\n",
        "\n",
        "    # Word fayllarini qidirish\n",
        "    if word_files:\n",
        "        for word in word_files:\n",
        "            similarity = fuzz.partial_ratio(query.lower(), word[\"name\"].lower())\n",
        "            if similarity == 100:  # 100% o'xshashlik bo'lsa\n",
        "                results.append(f\"Word fayli: {word['link']} (o'xshashlik: {similarity}%)\")\n",
        "\n",
        "    return results\n",
        "\n",
        "# Natijalarni ko'rsatish funksiyasi\n",
        "def display_results(query):\n",
        "    results = search_word_files(query)\n",
        "    output = \"Natijalar:\\n\\n\"\n",
        "\n",
        "    if not results:\n",
        "        output += \"Hech qanday natija topilmadi.\\n\"\n",
        "    else:\n",
        "        for result in results:\n",
        "            output += result + \"\\n\"\n",
        "\n",
        "    return output\n",
        "\n",
        "# Gradio interfeysini yaratish\n",
        "def gradio_interface(query):\n",
        "    text_results = display_results(query)\n",
        "\n",
        "    # 100% o'xshashlikka ega Word fayllarini output sifatida ko'rsatish\n",
        "    word_output = None\n",
        "    for word in word_files:\n",
        "        similarity = fuzz.partial_ratio(query.lower(), word[\"name\"].lower())\n",
        "        if similarity == 100:  # Faqat 100% o'xshashlikni qaytarish\n",
        "            word_output = word[\"link\"]  # Word faylini link sifatida qaytarish\n",
        "\n",
        "    return text_results, word_output\n",
        "\n",
        "# GitHub'dan Word fayllarini yuklash\n",
        "github_word_urls = [\n",
        "    \"https://raw.githubusercontent.com/begzodeshmatov/suniywordd/main/asdf.docx\",\n",
        "    \"https://raw.githubusercontent.com/begzodeshmatov/suniywordd/main/qwert.docx\"\n",
        "]\n",
        "load_word_files_from_github(github_word_urls)\n",
        "\n",
        "# Gradio interfeysi\n",
        "demo = gr.Interface(\n",
        "    fn=gradio_interface,\n",
        "    inputs=\"text\",\n",
        "    outputs=[\"text\", \"file\"],  # Word fayllarini yuklab olish uchun\n",
        "    title=\"Begzodning Word Qidiruv Tizimi\",\n",
        "    description=\"Word fayllar bo'yicha qidiruv tizimi\"\n",
        ")\n",
        "\n",
        "demo.launch()\n"
      ]
    }
  ],
  "metadata": {
    "colab": {
      "provenance": [],
      "authorship_tag": "ABX9TyOINkLIegzhUKsX6k9Wx7Ru",
      "include_colab_link": true
    },
    "kernelspec": {
      "display_name": "Python 3",
      "name": "python3"
    },
    "language_info": {
      "name": "python"
    }
  },
  "nbformat": 4,
  "nbformat_minor": 0
}